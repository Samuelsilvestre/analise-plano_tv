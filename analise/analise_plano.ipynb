{
 "cells": [
  {
   "cell_type": "code",
   "execution_count": 2,
   "metadata": {},
   "outputs": [],
   "source": [
    "import pandas as pd\n",
    "import os\n",
    "import numpy as py\n",
    "import matplotlib.pyplot as plt"
   ]
  },
  {
   "cell_type": "code",
   "execution_count": 7,
   "metadata": {},
   "outputs": [],
   "source": [
    "from sklearn.neighbors import KNeighborsClassifier\n",
    "from sklearn.preprocessing import LabelBinarizer, StandardScaler\n"
   ]
  },
  {
   "cell_type": "markdown",
   "metadata": {},
   "source": [
    "- Leitura da base de dados e configuração"
   ]
  },
  {
   "cell_type": "code",
   "execution_count": 5,
   "metadata": {},
   "outputs": [],
   "source": [
    "import warnings\n",
    "warnings.filterwarnings('ignore')"
   ]
  },
  {
   "cell_type": "code",
   "execution_count": 6,
   "metadata": {},
   "outputs": [],
   "source": [
    "PATH_FILE = os.path.join('.//..//data//dados.csv')\n",
    "df = pd.read_csv(PATH_FILE, sep=';')"
   ]
  },
  {
   "cell_type": "markdown",
   "metadata": {},
   "source": [
    "- Exploração dos dados"
   ]
  },
  {
   "cell_type": "code",
   "execution_count": 9,
   "metadata": {},
   "outputs": [
    {
     "data": {
      "text/html": [
       "<div>\n",
       "<style scoped>\n",
       "    .dataframe tbody tr th:only-of-type {\n",
       "        vertical-align: middle;\n",
       "    }\n",
       "\n",
       "    .dataframe tbody tr th {\n",
       "        vertical-align: top;\n",
       "    }\n",
       "\n",
       "    .dataframe thead th {\n",
       "        text-align: right;\n",
       "    }\n",
       "</style>\n",
       "<table border=\"1\" class=\"dataframe\">\n",
       "  <thead>\n",
       "    <tr style=\"text-align: right;\">\n",
       "      <th></th>\n",
       "      <th>ID_CLIENTE</th>\n",
       "      <th>FORMA_AQUISICAO</th>\n",
       "      <th>IDADE_CLIENTE</th>\n",
       "      <th>SEXO</th>\n",
       "      <th>QT_FILHOS</th>\n",
       "      <th>DT_AQUISICAO</th>\n",
       "      <th>DT_CANCELAMENTO</th>\n",
       "      <th>DIAS_ATIVO</th>\n",
       "      <th>MESES_ATIVO</th>\n",
       "      <th>DURACAO_CONTRATO</th>\n",
       "      <th>...</th>\n",
       "      <th>QT_PC_PAGAS</th>\n",
       "      <th>QT_PC_VENCIDAS</th>\n",
       "      <th>QT_PC_PAGA_ATRASO</th>\n",
       "      <th>QT_PC_PAGA_EM_DIA</th>\n",
       "      <th>QT_ACORDO_PAGAMENTO</th>\n",
       "      <th>VL_MENSALIDADE_ATRASO</th>\n",
       "      <th>VL_MENSALIDADE_DT_AQUISICAO</th>\n",
       "      <th>VL_MENSALIDADE_DT_ATUAL</th>\n",
       "      <th>SITUACAO</th>\n",
       "      <th>COD_SITUACAO</th>\n",
       "    </tr>\n",
       "  </thead>\n",
       "  <tbody>\n",
       "    <tr>\n",
       "      <th>0</th>\n",
       "      <td>1</td>\n",
       "      <td>Site</td>\n",
       "      <td>23</td>\n",
       "      <td>MASCULINO</td>\n",
       "      <td>0.0</td>\n",
       "      <td>18/06/2021</td>\n",
       "      <td>NaN</td>\n",
       "      <td>33</td>\n",
       "      <td>1</td>\n",
       "      <td>48 Meses</td>\n",
       "      <td>...</td>\n",
       "      <td>1</td>\n",
       "      <td>4</td>\n",
       "      <td>0</td>\n",
       "      <td>1</td>\n",
       "      <td>1</td>\n",
       "      <td>2070</td>\n",
       "      <td>450</td>\n",
       "      <td>518</td>\n",
       "      <td>ATIVO</td>\n",
       "      <td>0</td>\n",
       "    </tr>\n",
       "    <tr>\n",
       "      <th>1</th>\n",
       "      <td>2</td>\n",
       "      <td>Vendedor</td>\n",
       "      <td>24</td>\n",
       "      <td>FEMININO</td>\n",
       "      <td>0.0</td>\n",
       "      <td>10/04/2018</td>\n",
       "      <td>NaN</td>\n",
       "      <td>1198</td>\n",
       "      <td>39</td>\n",
       "      <td>48 Meses</td>\n",
       "      <td>...</td>\n",
       "      <td>5</td>\n",
       "      <td>0</td>\n",
       "      <td>1</td>\n",
       "      <td>4</td>\n",
       "      <td>0</td>\n",
       "      <td>0</td>\n",
       "      <td>230</td>\n",
       "      <td>265</td>\n",
       "      <td>ATIVO</td>\n",
       "      <td>0</td>\n",
       "    </tr>\n",
       "    <tr>\n",
       "      <th>2</th>\n",
       "      <td>3</td>\n",
       "      <td>Site</td>\n",
       "      <td>25</td>\n",
       "      <td>MASCULINO</td>\n",
       "      <td>0.0</td>\n",
       "      <td>09/10/2020</td>\n",
       "      <td>NaN</td>\n",
       "      <td>285</td>\n",
       "      <td>9</td>\n",
       "      <td>48 Meses</td>\n",
       "      <td>...</td>\n",
       "      <td>5</td>\n",
       "      <td>0</td>\n",
       "      <td>3</td>\n",
       "      <td>2</td>\n",
       "      <td>0</td>\n",
       "      <td>0</td>\n",
       "      <td>290</td>\n",
       "      <td>334</td>\n",
       "      <td>ATIVO</td>\n",
       "      <td>0</td>\n",
       "    </tr>\n",
       "    <tr>\n",
       "      <th>3</th>\n",
       "      <td>4</td>\n",
       "      <td>Vendedor</td>\n",
       "      <td>26</td>\n",
       "      <td>FEMININO</td>\n",
       "      <td>17.0</td>\n",
       "      <td>25/06/2019</td>\n",
       "      <td>NaN</td>\n",
       "      <td>757</td>\n",
       "      <td>25</td>\n",
       "      <td>48 Meses</td>\n",
       "      <td>...</td>\n",
       "      <td>5</td>\n",
       "      <td>0</td>\n",
       "      <td>1</td>\n",
       "      <td>4</td>\n",
       "      <td>0</td>\n",
       "      <td>0</td>\n",
       "      <td>230</td>\n",
       "      <td>265</td>\n",
       "      <td>ATIVO</td>\n",
       "      <td>0</td>\n",
       "    </tr>\n",
       "    <tr>\n",
       "      <th>4</th>\n",
       "      <td>5</td>\n",
       "      <td>Vendedor</td>\n",
       "      <td>27</td>\n",
       "      <td>MASCULINO</td>\n",
       "      <td>0.0</td>\n",
       "      <td>19/09/2019</td>\n",
       "      <td>NaN</td>\n",
       "      <td>671</td>\n",
       "      <td>22</td>\n",
       "      <td>48 Meses</td>\n",
       "      <td>...</td>\n",
       "      <td>5</td>\n",
       "      <td>0</td>\n",
       "      <td>5</td>\n",
       "      <td>0</td>\n",
       "      <td>0</td>\n",
       "      <td>0</td>\n",
       "      <td>230</td>\n",
       "      <td>265</td>\n",
       "      <td>ATIVO</td>\n",
       "      <td>0</td>\n",
       "    </tr>\n",
       "  </tbody>\n",
       "</table>\n",
       "<p>5 rows × 24 columns</p>\n",
       "</div>"
      ],
      "text/plain": [
       "   ID_CLIENTE FORMA_AQUISICAO  IDADE_CLIENTE       SEXO  QT_FILHOS  \\\n",
       "0           1            Site             23  MASCULINO        0.0   \n",
       "1           2        Vendedor             24   FEMININO        0.0   \n",
       "2           3            Site             25  MASCULINO        0.0   \n",
       "3           4        Vendedor             26   FEMININO       17.0   \n",
       "4           5        Vendedor             27  MASCULINO        0.0   \n",
       "\n",
       "  DT_AQUISICAO DT_CANCELAMENTO  DIAS_ATIVO  MESES_ATIVO DURACAO_CONTRATO  ...  \\\n",
       "0   18/06/2021             NaN          33            1         48 Meses  ...   \n",
       "1   10/04/2018             NaN        1198           39         48 Meses  ...   \n",
       "2   09/10/2020             NaN         285            9         48 Meses  ...   \n",
       "3   25/06/2019             NaN         757           25         48 Meses  ...   \n",
       "4   19/09/2019             NaN         671           22         48 Meses  ...   \n",
       "\n",
       "   QT_PC_PAGAS  QT_PC_VENCIDAS QT_PC_PAGA_ATRASO  QT_PC_PAGA_EM_DIA  \\\n",
       "0            1               4                 0                  1   \n",
       "1            5               0                 1                  4   \n",
       "2            5               0                 3                  2   \n",
       "3            5               0                 1                  4   \n",
       "4            5               0                 5                  0   \n",
       "\n",
       "   QT_ACORDO_PAGAMENTO  VL_MENSALIDADE_ATRASO  VL_MENSALIDADE_DT_AQUISICAO  \\\n",
       "0                    1                   2070                          450   \n",
       "1                    0                      0                          230   \n",
       "2                    0                      0                          290   \n",
       "3                    0                      0                          230   \n",
       "4                    0                      0                          230   \n",
       "\n",
       "   VL_MENSALIDADE_DT_ATUAL  SITUACAO  COD_SITUACAO  \n",
       "0                      518     ATIVO             0  \n",
       "1                      265     ATIVO             0  \n",
       "2                      334     ATIVO             0  \n",
       "3                      265     ATIVO             0  \n",
       "4                      265     ATIVO             0  \n",
       "\n",
       "[5 rows x 24 columns]"
      ]
     },
     "metadata": {},
     "output_type": "display_data"
    },
    {
     "name": "stdout",
     "output_type": "stream",
     "text": [
      "<class 'pandas.core.frame.DataFrame'>\n",
      "RangeIndex: 448447 entries, 0 to 448446\n",
      "Data columns (total 24 columns):\n",
      " #   Column                       Non-Null Count   Dtype  \n",
      "---  ------                       --------------   -----  \n",
      " 0   ID_CLIENTE                   448447 non-null  int64  \n",
      " 1   FORMA_AQUISICAO              448447 non-null  object \n",
      " 2   IDADE_CLIENTE                448447 non-null  int64  \n",
      " 3   SEXO                         448447 non-null  object \n",
      " 4   QT_FILHOS                    448193 non-null  float64\n",
      " 5   DT_AQUISICAO                 448447 non-null  object \n",
      " 6   DT_CANCELAMENTO              117455 non-null  object \n",
      " 7   DIAS_ATIVO                   448447 non-null  int64  \n",
      " 8   MESES_ATIVO                  448447 non-null  int64  \n",
      " 9   DURACAO_CONTRATO             448447 non-null  object \n",
      " 10  VL_PLANO_ADESAO              448447 non-null  int64  \n",
      " 11  VL_PLANO_ATUAL               448447 non-null  int64  \n",
      " 12  NOME_PRODUTO                 448447 non-null  object \n",
      " 13  QT_PONTOS_INSTALADOS         448447 non-null  int64  \n",
      " 14  QT_PC_PAGAS                  448447 non-null  int64  \n",
      " 15  QT_PC_VENCIDAS               448447 non-null  int64  \n",
      " 16  QT_PC_PAGA_ATRASO            448447 non-null  int64  \n",
      " 17  QT_PC_PAGA_EM_DIA            448447 non-null  int64  \n",
      " 18  QT_ACORDO_PAGAMENTO          448447 non-null  int64  \n",
      " 19  VL_MENSALIDADE_ATRASO        448447 non-null  int64  \n",
      " 20  VL_MENSALIDADE_DT_AQUISICAO  448447 non-null  int64  \n",
      " 21  VL_MENSALIDADE_DT_ATUAL      448447 non-null  int64  \n",
      " 22  SITUACAO                     448447 non-null  object \n",
      " 23  COD_SITUACAO                 448447 non-null  int64  \n",
      "dtypes: float64(1), int64(16), object(7)\n",
      "memory usage: 82.1+ MB\n"
     ]
    },
    {
     "data": {
      "text/plain": [
       "None"
      ]
     },
     "metadata": {},
     "output_type": "display_data"
    }
   ],
   "source": [
    "display(df.head())\n",
    "display(df.info())"
   ]
  },
  {
   "cell_type": "markdown",
   "metadata": {},
   "source": [
    "Análise das variaveis categoricas"
   ]
  },
  {
   "cell_type": "markdown",
   "metadata": {},
   "source": [
    "- Produtos"
   ]
  },
  {
   "cell_type": "code",
   "execution_count": 14,
   "metadata": {},
   "outputs": [
    {
     "data": {
      "text/plain": [
       "NOME_PRODUTO\n",
       "PLANO BASICO (30 CANAIS HD)         285209\n",
       "PLANO BASICO PLUS (50 CANAIS HD)      8835\n",
       "PLANO FAMILIA (100 CANAIS HD)        59716\n",
       "PLANO MEDIO A (60 CANAIS HD)         62221\n",
       "PLANO MEDIO TOP (90 CANAIS HD)         295\n",
       "PLANO PREMIUM TOTAL                  32171\n",
       "dtype: int64"
      ]
     },
     "metadata": {},
     "output_type": "display_data"
    },
    {
     "data": {
      "text/plain": [
       "NOME_PRODUTO\n",
       "PLANO BASICO (30 CANAIS HD)         0.635993\n",
       "PLANO MEDIO A (60 CANAIS HD)        0.138748\n",
       "PLANO FAMILIA (100 CANAIS HD)       0.133162\n",
       "PLANO PREMIUM TOTAL                 0.071739\n",
       "PLANO BASICO PLUS (50 CANAIS HD)    0.019701\n",
       "PLANO MEDIO TOP (90 CANAIS HD)      0.000658\n",
       "Name: proportion, dtype: float64"
      ]
     },
     "metadata": {},
     "output_type": "display_data"
    }
   ],
   "source": [
    "display(df.groupby(['NOME_PRODUTO']).size())\n",
    "display(df['NOME_PRODUTO'].value_counts(normalize=True))"
   ]
  },
  {
   "cell_type": "markdown",
   "metadata": {},
   "source": [
    "- Sexo"
   ]
  },
  {
   "cell_type": "code",
   "execution_count": 15,
   "metadata": {},
   "outputs": [
    {
     "data": {
      "text/plain": [
       "SEXO\n",
       "FEMININO     224223\n",
       "MASCULINO    224224\n",
       "dtype: int64"
      ]
     },
     "metadata": {},
     "output_type": "display_data"
    },
    {
     "data": {
      "text/plain": [
       "SEXO\n",
       "MASCULINO    0.500001\n",
       "FEMININO     0.499999\n",
       "Name: proportion, dtype: float64"
      ]
     },
     "metadata": {},
     "output_type": "display_data"
    }
   ],
   "source": [
    "display(df.groupby(['SEXO']).size())\n",
    "display(df['SEXO'].value_counts(normalize=True))"
   ]
  },
  {
   "cell_type": "markdown",
   "metadata": {},
   "source": [
    "- Duração do contrato"
   ]
  },
  {
   "cell_type": "code",
   "execution_count": 17,
   "metadata": {},
   "outputs": [
    {
     "data": {
      "text/plain": [
       "DURACAO_CONTRATO\n",
       "12 Meses       195\n",
       "24 Meses       235\n",
       "36 Meses     31889\n",
       "48 Meses    416128\n",
       "dtype: int64"
      ]
     },
     "metadata": {},
     "output_type": "display_data"
    },
    {
     "data": {
      "text/plain": [
       "DURACAO_CONTRATO\n",
       "48 Meses    0.927931\n",
       "36 Meses    0.071110\n",
       "24 Meses    0.000524\n",
       "12 Meses    0.000435\n",
       "Name: proportion, dtype: float64"
      ]
     },
     "metadata": {},
     "output_type": "display_data"
    }
   ],
   "source": [
    "display(df.groupby(['DURACAO_CONTRATO']).size())\n",
    "display(df['DURACAO_CONTRATO'].value_counts(normalize=True))"
   ]
  },
  {
   "cell_type": "markdown",
   "metadata": {},
   "source": [
    "- Forma de aquisição"
   ]
  },
  {
   "cell_type": "code",
   "execution_count": 25,
   "metadata": {},
   "outputs": [
    {
     "data": {
      "text/plain": [
       "FORMA_AQUISICAO\n",
       "Site        321376\n",
       "Vendedor    127071\n",
       "dtype: int64"
      ]
     },
     "metadata": {},
     "output_type": "display_data"
    },
    {
     "data": {
      "text/plain": [
       "FORMA_AQUISICAO\n",
       "Site        0.716642\n",
       "Vendedor    0.283358\n",
       "Name: proportion, dtype: float64"
      ]
     },
     "metadata": {},
     "output_type": "display_data"
    }
   ],
   "source": [
    "display(df.groupby(['FORMA_AQUISICAO']).size())\n",
    "display(df['FORMA_AQUISICAO'].value_counts(normalize=True))"
   ]
  },
  {
   "cell_type": "markdown",
   "metadata": {},
   "source": [
    "- Situação do cliente"
   ]
  },
  {
   "cell_type": "code",
   "execution_count": 27,
   "metadata": {},
   "outputs": [
    {
     "data": {
      "text/plain": [
       "SITUACAO\n",
       "ATIVO        330992\n",
       "CANCELADO    117455\n",
       "dtype: int64"
      ]
     },
     "metadata": {},
     "output_type": "display_data"
    },
    {
     "data": {
      "text/plain": [
       "SITUACAO\n",
       "ATIVO        0.738085\n",
       "CANCELADO    0.261915\n",
       "Name: proportion, dtype: float64"
      ]
     },
     "metadata": {},
     "output_type": "display_data"
    }
   ],
   "source": [
    "display(df.groupby(['SITUACAO']).size())\n",
    "display(df['SITUACAO'].value_counts(normalize=True))"
   ]
  }
 ],
 "metadata": {
  "kernelspec": {
   "display_name": "Python 3",
   "language": "python",
   "name": "python3"
  },
  "language_info": {
   "codemirror_mode": {
    "name": "ipython",
    "version": 3
   },
   "file_extension": ".py",
   "mimetype": "text/x-python",
   "name": "python",
   "nbconvert_exporter": "python",
   "pygments_lexer": "ipython3",
   "version": "3.12.4"
  }
 },
 "nbformat": 4,
 "nbformat_minor": 2
}
